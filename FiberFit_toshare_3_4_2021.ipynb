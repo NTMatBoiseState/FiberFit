{
 "cells": [
  {
   "cell_type": "markdown",
   "metadata": {},
   "source": [
    "# Fiber Analysis; Modified from FiberFit Software\n",
    "## software  is from [this paper](https://link.springer.com/article/10.1007/s10237-016-0776-3) and Github with original program can be viewed [here.](https://github.com/NTMatBoiseState/FiberFit/tree/master/src/fiberfit_model)\n",
    "#### this software below is same as above, but it allows for bulk proccessing and provides export of raw data\n",
    "\n",
    "### Steps:  First, Upload your Images for analysis."
   ]
  },
  {
   "cell_type": "code",
   "execution_count": 1,
   "metadata": {},
   "outputs": [
    {
     "name": "stderr",
     "output_type": "stream",
     "text": [
      "/srv/conda/envs/notebook/lib/python3.7/site-packages/IPython/html.py:14: ShimWarning: The `IPython.html` package has been deprecated since IPython 4.0. You should import from `notebook` instead. `IPython.html.widgets` has moved to `ipywidgets`.\n",
      "  \"`IPython.html.widgets` has moved to `ipywidgets`.\", ShimWarning)\n"
     ]
    },
    {
     "data": {
      "application/vnd.jupyter.widget-view+json": {
       "model_id": "448a008d479d43e7acb8b816338c4bfe",
       "version_major": 2,
       "version_minor": 0
      },
      "text/plain": [
       "FileUpload(value={}, description='Upload', multiple=True, style=ButtonStyle(button_color='lightblue'))"
      ]
     },
     "metadata": {},
     "output_type": "display_data"
    }
   ],
   "source": [
    "from widgetsmp import s,run,run2,save,clear\n",
    "from src.foruploading5 import ff,upload,prepimages\n",
    "import ipywidgets as widgets\n",
    "from IPython.display import display, Markdown, clear_output\n",
    "from ipywidgets import interact, interact_manual\n",
    "import os\n",
    "import glob\n",
    "%matplotlib inline\n",
    "## Remove blank file from output folder\n",
    "files = glob.glob('Data/*',recursive=True)\n",
    "for f in files:\n",
    "    try:\n",
    "        os.remove(f)\n",
    "    except OSError as e:\n",
    "        print(\"Error: %s : %s\" % (f, e.strerror))\n",
    "s = widgets.FileUpload(accept='', multiple=True)\n",
    "upload(s)\n",
    "s"
   ]
  },
  {
   "cell_type": "markdown",
   "metadata": {},
   "source": [
    "### Next, Run Code. Input maximum and minimum fiber thickness (unit - pixels) for fibers. Suggested values are shown in boxes, but still need to be typed in the box. Output will be in \"output\" folder on home page. CSV output provides alignment data in order of images uploaded."
   ]
  },
  {
   "cell_type": "code",
   "execution_count": 2,
   "metadata": {},
   "outputs": [
    {
     "data": {
      "application/vnd.jupyter.widget-view+json": {
       "model_id": "22a99f3dcad74e48b9f794dca567e39a",
       "version_major": 2,
       "version_minor": 0
      },
      "text/plain": [
       "VBox(children=(Text(value='', description='Max fiber Thickness (pixels)', layout=Layout(width='300px'), placeh…"
      ]
     },
     "metadata": {},
     "output_type": "display_data"
    },
    {
     "data": {
      "application/vnd.jupyter.widget-view+json": {
       "model_id": "17d380b8fb844c878356cacc729c1a94",
       "version_major": 2,
       "version_minor": 0
      },
      "text/plain": [
       "Output()"
      ]
     },
     "metadata": {},
     "output_type": "display_data"
    }
   ],
   "source": [
    "run(_)### Next, Run Code. Input maximum and minimum fiber thickness for fibers. Suggested values are shown in boxes, but still need to be typed in the box. Output will be in \"output\" folder on home page. Can Download images and .csv from there (working on including .zip file download)"
   ]
  },
  {
   "cell_type": "markdown",
   "metadata": {},
   "source": [
    "### Next, Create zip file to download."
   ]
  },
  {
   "cell_type": "code",
   "execution_count": 3,
   "metadata": {
    "scrolled": true
   },
   "outputs": [
    {
     "name": "stdout",
     "output_type": "stream",
     "text": [
      "output/data_export.csv\r\n",
      "output/FFT Norm Test Image_90_0.7_90.03_0.7_0.5729723.png\r\n",
      "output/GroupedNorm Test Image_90_0.7_90.03_0.7_0.5729723.png\r\n",
      "output/Normdist Norm Test Image_90_0.7_90.03_0.7_0.5729723.png\r\n",
      "output/polarpositiveNorm Test Image_90_0.7_90.03_0.7_0.5729723.png\r\n"
     ]
    }
   ],
   "source": [
    "!tar chvfz notebook.tar.gz output/*;"
   ]
  },
  {
   "cell_type": "markdown",
   "metadata": {},
   "source": [
    "### Finally, download output file by clicking on download link. Files include images for analysis and bulk .csv file. Delete files in Data and output file by clicking on clear data button prior to running a new set of files."
   ]
  },
  {
   "cell_type": "code",
   "execution_count": 4,
   "metadata": {},
   "outputs": [
    {
     "data": {
      "application/vnd.jupyter.widget-view+json": {
       "model_id": "0326fc2d463f4487ae43dc6b83407cb0",
       "version_major": 2,
       "version_minor": 0
      },
      "text/plain": [
       "HTML(value='<html>\\n    <head>\\n    <meta name=\"viewport\" content=\"width=device-width, initial-scale=1\">\\n    …"
      ]
     },
     "metadata": {},
     "output_type": "display_data"
    },
    {
     "data": {
      "application/vnd.jupyter.widget-view+json": {
       "model_id": "f0cacc9ed7d44e49a62ead2ffea602bd",
       "version_major": 2,
       "version_minor": 0
      },
      "text/plain": [
       "VBox(children=(Button(description='Clear Data', layout=Layout(width='300px'), style=ButtonStyle()),))"
      ]
     },
     "metadata": {},
     "output_type": "display_data"
    },
    {
     "data": {
      "application/vnd.jupyter.widget-view+json": {
       "model_id": "5ab496d2336e4ca0b3de20750368f736",
       "version_major": 2,
       "version_minor": 0
      },
      "text/plain": [
       "Output()"
      ]
     },
     "metadata": {},
     "output_type": "display_data"
    }
   ],
   "source": [
    "save(_)\n",
    "clear(_)"
   ]
  },
  {
   "cell_type": "markdown",
   "metadata": {},
   "source": [
    "### Next, if desired, run code below for color maps of fiber orientation and diameter thickness (code modified from  [this paper](https://journals.plos.org/plosone/article?id=10.1371/journal.pone.0215137).  Again, output will be in \"output\" folder. \n",
    "###### Note: These color maps are from a program called Quanfima. This is a method that utilizes alternative calculation method than above. It takes longer to calculate, but can be used qualitatively against csv + image outputs in above program to confirm if similar results. PNG or JPEG files are suggested for speedier calculations."
   ]
  },
  {
   "cell_type": "markdown",
   "metadata": {},
   "source": [
    "### Steps:  First, Upload a single image for analysis"
   ]
  },
  {
   "cell_type": "code",
   "execution_count": 5,
   "metadata": {},
   "outputs": [
    {
     "data": {
      "application/vnd.jupyter.widget-view+json": {
       "model_id": "02033485ccb64585b7172f35bed4c8b0",
       "version_major": 2,
       "version_minor": 0
      },
      "text/plain": [
       "FileUpload(value={}, description='Upload', multiple=True, style=ButtonStyle(button_color='lightblue'))"
      ]
     },
     "metadata": {},
     "output_type": "display_data"
    }
   ],
   "source": [
    "s = widgets.FileUpload(accept='', multiple=True)\n",
    "upload(s)\n",
    "s"
   ]
  },
  {
   "cell_type": "markdown",
   "metadata": {},
   "source": [
    "### Steps: Next, run analysis"
   ]
  },
  {
   "cell_type": "code",
   "execution_count": 6,
   "metadata": {},
   "outputs": [
    {
     "data": {
      "application/vnd.jupyter.widget-view+json": {
       "model_id": "90747e3bec0f4fd98a67ebd80f4be938",
       "version_major": 2,
       "version_minor": 0
      },
      "text/plain": [
       "VBox(children=(Button(description='Run Fiber Orientation Visualization', layout=Layout(width='300px'), style=B…"
      ]
     },
     "metadata": {},
     "output_type": "display_data"
    },
    {
     "data": {
      "application/vnd.jupyter.widget-view+json": {
       "model_id": "eb5c6f7237d1431a84ebbf21a8d8c89c",
       "version_major": 2,
       "version_minor": 0
      },
      "text/plain": [
       "Output()"
      ]
     },
     "metadata": {},
     "output_type": "display_data"
    }
   ],
   "source": [
    "run2(_)"
   ]
  },
  {
   "cell_type": "markdown",
   "metadata": {},
   "source": [
    "## Create output file to download"
   ]
  },
  {
   "cell_type": "code",
   "execution_count": 7,
   "metadata": {},
   "outputs": [
    {
     "name": "stdout",
     "output_type": "stream",
     "text": [
      "output/DIAMETER_estimate_diameter_map.png\r\n",
      "output/orientation_map.png\r\n"
     ]
    }
   ],
   "source": [
    "!tar chvfz notebook.tar.gz output/*;"
   ]
  },
  {
   "cell_type": "markdown",
   "metadata": {},
   "source": [
    "## Download output file by clicking on download link. Files include images shown above. Click clear data to clear input and output data to run again."
   ]
  },
  {
   "cell_type": "code",
   "execution_count": 8,
   "metadata": {},
   "outputs": [
    {
     "data": {
      "application/vnd.jupyter.widget-view+json": {
       "model_id": "15b97f9033a74a96acdca2e904f7c1a6",
       "version_major": 2,
       "version_minor": 0
      },
      "text/plain": [
       "HTML(value='<html>\\n    <head>\\n    <meta name=\"viewport\" content=\"width=device-width, initial-scale=1\">\\n    …"
      ]
     },
     "metadata": {},
     "output_type": "display_data"
    },
    {
     "data": {
      "application/vnd.jupyter.widget-view+json": {
       "model_id": "ff16db18b43242a591a73b8c9611b86b",
       "version_major": 2,
       "version_minor": 0
      },
      "text/plain": [
       "VBox(children=(Button(description='Clear Data', layout=Layout(width='300px'), style=ButtonStyle()),))"
      ]
     },
     "metadata": {},
     "output_type": "display_data"
    },
    {
     "data": {
      "application/vnd.jupyter.widget-view+json": {
       "model_id": "18a3abad11f4459999349b409fbaf7e7",
       "version_major": 2,
       "version_minor": 0
      },
      "text/plain": [
       "Output()"
      ]
     },
     "metadata": {},
     "output_type": "display_data"
    }
   ],
   "source": [
    "save(_)\n",
    "clear(_)"
   ]
  },
  {
   "cell_type": "code",
   "execution_count": null,
   "metadata": {},
   "outputs": [],
   "source": []
  }
 ],
 "metadata": {
  "kernelspec": {
   "display_name": "Python 3",
   "language": "python",
   "name": "python3"
  },
  "language_info": {
   "codemirror_mode": {
    "name": "ipython",
    "version": 3
   },
   "file_extension": ".py",
   "mimetype": "text/x-python",
   "name": "python",
   "nbconvert_exporter": "python",
   "pygments_lexer": "ipython3",
   "version": "3.7.9"
  }
 },
 "nbformat": 4,
 "nbformat_minor": 2
}
